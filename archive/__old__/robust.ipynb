{
 "cells": [
  {
   "attachments": {},
   "cell_type": "markdown",
   "metadata": {},
   "source": [
    "###### PREPARATION GRAPH ########### \n",
    "\n",
    "#' prepGraph\n",
    "#' \n",
    "#' @description This function reads graphs from a file and \n",
    "#' prepares them for the analysis.\n",
    "#'\n",
    "#' @param file The input file containing the graph.\n",
    "#' @param file.format Character constant giving the file format. Edgelist, \n",
    "#' pajek, graphml, gml, ncol, lgl, dimacs, graphdb and igraph are\n",
    "#' supported.\n",
    "#' @param numbers A logical value indicating if the names of the nodes are \n",
    "#' values.This argument is settable for the edgelist format. \n",
    "#' The default is FALSE.\n",
    "#' @param directed A logical value indicating if is a directed graph. The \n",
    "#' default is FALSE.\n",
    "#' @param header A logical value indicating whether the file contains \n",
    "#' the names of the variables as its first line.This argument is settable \n",
    "#' @param verbose flag for verbose output (default as FALSE).\n",
    "#' for the edgelist format.The default is FALSE.\n",
    "#' @return An igraph object, which do not contain loop and multiple edges.\n",
    "#' @import igraph\n",
    "#' @importFrom utils read.table\n",
    "#' @export\n",
    "#'\n",
    "#' @examples\n",
    "#' #install.packages(\"robin\")\n",
    "#' \n",
    "#' #If there are problems with the installation try:\n",
    "#' # if (!requireNamespace(\"BiocManager\", quietly = TRUE))\n",
    "#' #     install.packages(\"BiocManager\")\n",
    "#' # BiocManager::install(\"gprege\")\n",
    "#' # install.packages(\"robin\")   \n",
    "#'                      \n",
    "#' my_file <- system.file(\"example/football.gml\", package=\"robin\")\n",
    "#' graph <- prepGraph(file=my_file, file.format=\"gml\")"
   ]
  },
  {
   "cell_type": "code",
   "execution_count": 11,
   "metadata": {},
   "outputs": [],
   "source": [
    "import igraph as ig\n",
    "import pandas as pd\n",
    "import os\n",
    "\n",
    "def prep_graph(file, file_format='gml', numbers=False, directed=False, header=False, verbose=False):\n",
    "    file_formats = [\"edgelist\", \"pajek\", \"ncol\", \"lgl\", \"graphml\", \"dimacs\", \"graphdb\", \"gml\", \"dl\", \"igraph\"]\n",
    "    if file_format not in file_formats:\n",
    "        raise ValueError(\"Invalid file_format. Expected one of: %s\" % file_formats)\n",
    "    \n",
    "    if verbose:\n",
    "        print(\"Detected file format:\", file_format)\n",
    "    \n",
    "    if file_format == \"gml\":\n",
    "        net = ig.Graph.Read_GML(file)\n",
    "        ind = [v.index for v in net.vs if net.degree(v) == 0]  # isolate node\n",
    "        net.delete_vertices(ind)\n",
    "        graph = net.simplify()\n",
    "    elif file_format == \"edgelist\" and numbers:\n",
    "        edge = pd.read_table(file, header=None, dtype=str, quoting=3)\n",
    "        edge = edge.to_numpy()\n",
    "        net = ig.Graph.TupleList(edge, directed=directed)\n",
    "        ind = [v.index for v in net.vs if net.degree(v) == 0]  # isolate node\n",
    "        net.delete_vertices(ind)\n",
    "        graph = net.simplify()\n",
    "    else:\n",
    "        net = ig.Graph.Read(file, format=file_format, directed=directed)\n",
    "        ind = [v.index for v in net.vs if net.degree(v) == 0]  # isolate node\n",
    "        net.delete_vertices(ind)\n",
    "        graph = net.simplify()\n",
    "\n",
    "    return graph"
   ]
  },
  {
   "cell_type": "code",
   "execution_count": 17,
   "metadata": {},
   "outputs": [],
   "source": [
    "my_file = os.path.join(\"datasets\", \"football.gml\")\n",
    "graph = prep_graph(file=my_file, file_format=\"gml\")"
   ]
  },
  {
   "attachments": {},
   "cell_type": "markdown",
   "metadata": {},
   "source": [
    "####### GRAPH RANDOM #########\n",
    "#' random\n",
    "#'\n",
    "#' @description This function randomly rewires the edges while preserving the original graph's \n",
    "#' degree distribution.\n",
    "#' @param graph The output of prepGraph.\n",
    "#' @param verbose flag for verbose output (default as FALSE)\n",
    "#' \n",
    "#' @return An igraph object, a randomly rewired graph.\n",
    "#' @import igraph\n",
    "#' @export\n",
    "#'\n",
    "#' @examples \n",
    "#' my_file <- system.file(\"example/football.gml\", package=\"robin\")\n",
    "#' graph <- prepGraph(file=my_file, file.format=\"gml\")\n",
    "#' graphRandom <- random(graph=graph)"
   ]
  },
  {
   "cell_type": "code",
   "execution_count": 19,
   "metadata": {},
   "outputs": [],
   "source": [
    "def random_graph(graph, verbose=False):\n",
    "    if verbose:\n",
    "        print(\"Randomizing the graph edges.\")\n",
    "    \n",
    "    z = graph.ecount()  # number of edges\n",
    "    graph_random = graph.rewire(n=z)\n",
    "\n",
    "    return graph_random"
   ]
  },
  {
   "cell_type": "code",
   "execution_count": 20,
   "metadata": {},
   "outputs": [],
   "source": [
    "graph_random = random_graph(graph=graph)"
   ]
  },
  {
   "attachments": {},
   "cell_type": "markdown",
   "metadata": {},
   "source": [
    "###### COMMUNITY METHOD ######    \n",
    "#' methodCommunity\n",
    "#' \n",
    "#' @description This function detects the community structure of a graph.\n",
    "#' To detect the community structure the user can choose one of the methods implemented \n",
    "#' in igraph.\n",
    "#' @param graph The output of prepGraph.\n",
    "#' @param method The clustering method, one of \"walktrap\", \"edgeBetweenness\", \n",
    "#' \"fastGreedy\", \"louvain\", \"spinglass\", \"leadingEigen\", \"labelProp\", \"infomap\",\n",
    "#' \"optimal\", \"other\".\n",
    "#' @param FUN in case the @method parameter is \"other\" there is the possibility \n",
    "#' to use a personal function passing its name through this parameter.\n",
    "#' The personal parameter has to take as input the @graph and the @weights \n",
    "#' (that can be NULL), and has to return a community object.\n",
    "#' @param weights  Optional positive weight vector. If the graph has a weight \n",
    "#' edge attribute, then this is used by default. Supply NA here if the graph \n",
    "#' has a weight edge attribute, but you want to ignore it. Larger edge weights\n",
    "#' correspond to stronger connections. This argument is not settable for \n",
    "#' \"infomap\" method.\n",
    "#' @param steps The number of steps to take, this is actually the number of \n",
    "#' tries to make a step. It is not a particularly useful parameter. This \n",
    "#' argument is settable only for \"leadingEigen\" and \"walktrap\" method.\n",
    "#' @param spins Integer constant, the number of spins to use. This is the upper \n",
    "#' limit for the number of communities. It is not a problem to supply a \n",
    "#' (reasonably) big number here, in which case some spin states will be \n",
    "#' unpopulated. This argument is settable only for \"spinglass\" method.\n",
    "#' @param e.weights If not NULL, then a numeric vector of edge weights. \n",
    "#' The length must match the number of edges in the graph. By default the \n",
    "#' ‘weight’ edge attribute is used as weights. If it is not present, then all\n",
    "#' edges are considered to have the same weight. Larger edge weights correspond \n",
    "#' to stronger connections. This argument is settable only for \"infomap\"\n",
    "#'  method.\n",
    "#' @param v.weights If not NULL, then a numeric vector of vertex weights. The\n",
    "#' length must match the number of vertices in the graph. By default the \n",
    "#' ‘weight’ vertex attribute is used as weights. If it is not present, then all\n",
    "#' vertices are considered to have the same weight. A larger vertex weight means\n",
    "#' a larger probability that the random surfer jumps to that vertex. This \n",
    "#' argument is settable only for \"infomap\" method.\n",
    "#' @param nb.trials The number of attempts to partition the network (can be any\n",
    "#' integer value equal or larger than 1). This argument is settable only for\n",
    "#' \"infomap\" method.\n",
    "#' @param resolution only for \"louvain\" and \"leiden\". Optional resolution \n",
    "#' parameter that allows the user to adjust the resolution parameter of the \n",
    "#' modularity function that the algorithm uses internally. Lower values \n",
    "#' typically yield fewer, larger clusters (default is 1).\n",
    "#' @param directed Logical constant, whether to calculate directed edge \n",
    "#' betweenness for directed graphs. This argument is settable only for \n",
    "#' \"edgeBetweenness\" method.\n",
    "#' @param verbose flag for verbose output (default as FALSE)\n",
    "#'\n",
    "#' @return A Communities object.\n",
    "#' @import igraph\n",
    "#' @export\n",
    "#'\n",
    "#' @examples \n",
    "#' my_file <- system.file(\"example/football.gml\", package=\"robin\")\n",
    "#' graph <- prepGraph(file=my_file, file.format=\"gml\")\n",
    "#' methodCommunity (graph=graph, method=\"louvain\") "
   ]
  },
  {
   "cell_type": "code",
   "execution_count": 27,
   "metadata": {},
   "outputs": [],
   "source": [
    "def method_community(graph,\n",
    "                     method=\"louvain\",\n",
    "                     FUN=None,\n",
    "                     directed=False,\n",
    "                     weights=None,\n",
    "                     steps=4,\n",
    "                     spins=25,\n",
    "                     e_weights=None,\n",
    "                     v_weights=None,\n",
    "                     nb_trials=10,\n",
    "                     resolution=1,\n",
    "                     verbose=False):\n",
    "    method = method.lower()\n",
    "\n",
    "    if verbose:\n",
    "        print(f\"Applying community method {method}\")\n",
    "\n",
    "    if weights is None and method in [\"walktrap\", \"edgebetweenness\", \"fastgreedy\"]:\n",
    "        weights = graph.es[\"weight\"]\n",
    "\n",
    "    if steps == 4 and method == \"leadingeigen\":\n",
    "        steps = -1\n",
    "\n",
    "    if method == \"optimal\":\n",
    "        communities = graph.community_optimal(weights=weights)\n",
    "    elif method == \"louvain\":\n",
    "        communities = graph.community_multilevel(weights=weights, return_levels=False)\n",
    "    elif method == \"walktrap\":\n",
    "        communities = graph.community_walktrap(weights=weights, steps=steps).as_clustering()\n",
    "    elif method == \"spinglass\":\n",
    "        communities = graph.community_spinglass(weights=weights, spins=spins)\n",
    "    elif method == \"leadingeigen\":\n",
    "        communities = graph.community_leading_eigenvector(weights=weights, niter=steps)\n",
    "    elif method == \"edgebetweenness\":\n",
    "        communities = graph.community_edge_betweenness(weights=weights, directed=directed).as_clustering()\n",
    "    elif method == \"fastgreedy\":\n",
    "        communities = graph.community_fastgreedy(weights=weights).as_clustering()\n",
    "    elif method == \"labelprop\":\n",
    "        communities = graph.community_label_propagation(weights=weights)\n",
    "    elif method == \"infomap\":\n",
    "        communities = graph.community_infomap(edge_weights=e_weights, vertex_weights=v_weights, trials=nb_trials)\n",
    "    elif method == \"leiden\":\n",
    "        communities = graph.community_leiden(weights=weights, resolution_parameter=resolution)\n",
    "    elif method == \"other\":\n",
    "        communities = FUN(graph, weights)\n",
    "    else:\n",
    "        raise ValueError(\"Invalid community detection method.\")\n",
    "\n",
    "    return communities"
   ]
  },
  {
   "cell_type": "code",
   "execution_count": 28,
   "metadata": {},
   "outputs": [],
   "source": [
    "communities = method_community(graph=graph, method=\"louvain\")"
   ]
  },
  {
   "attachments": {},
   "cell_type": "markdown",
   "metadata": {},
   "source": [
    "##### MEMBERSHIP COMMUNITIES ######    \n",
    "#' membershipCommunities\n",
    "#' \n",
    "#' @description This function computes the membership vector of the community \n",
    "#' structure. To detect the community structure the user can choose one of the methods implemented \n",
    "#' in igraph.\n",
    "#' @param graph The output of prepGraph.\n",
    "#' @param method The clustering method, one of \"walktrap\", \"edgeBetweenness\", \n",
    "#' \"fastGreedy\", \"louvain\", \"spinglass\", \"leadingEigen\", \"labelProp\", \"infomap\",\n",
    "#' \"optimal\", \"leiden\",\"other\".\n",
    "#' @param FUN in case the @method parameter is \"other\" there is the possibility \n",
    "#' to use a personal function passing its name through this parameter.\n",
    "#' The personal parameter has to take as input the @graph and the @weights \n",
    "#' (that can be NULL), and has to return a community object.\n",
    "#' @param weights  Optional positive weight vector. If the graph has a weight \n",
    "#' edge attribute, then this is used by default. Supply NA here if the graph \n",
    "#' has a weight edge attribute, but you want to ignore it. Larger edge weights\n",
    "#' correspond to stronger connections. This argument is not settable for \n",
    "#' \"infomap\" method.\n",
    "#' @param steps The number of steps to take, this is actually the number of \n",
    "#' tries to make a step. It is not a particularly useful parameter. This \n",
    "#' argument is settable only for \"leadingEigen\"and\"walktrap\" method.\n",
    "#' @param spins Integer constant, the number of spins to use. This is the upper \n",
    "#' limit for the number of communities. It is not a problem to supply a \n",
    "#' (reasonably) big number here, in which case some spin states will be \n",
    "#' unpopulated. This argument is settable only for \"spinglass\" method.\n",
    "#' @param e.weights If not NULL, then a numeric vector of edge weights. \n",
    "#' The length must match the number of edges in the graph. By default the \n",
    "#' ‘weight’ edge attribute is used as weights. If it is not present, then all\n",
    "#' edges are considered to have the same weight. Larger edge weights correspond \n",
    "#' to stronger connections.  This argument is settable only for \"infomap\"\n",
    "#'  method.\n",
    "#' @param v.weights If not NULL, then a numeric vector of vertex weights. The\n",
    "#' length must match the number of vertices in the graph. By default the \n",
    "#' ‘weight’ vertex attribute is used as weights. If it is not present, then all\n",
    "#' vertices are considered to have the same weight. A larger vertex weight means\n",
    "#' a larger probability that the random surfer jumps to that vertex. This \n",
    "#' argument is settable only for \"infomap\" method.\n",
    "#' @param nb.trials The number of attempts to partition the network (can be any\n",
    "#' integer value equal or larger than 1). This argument is settable only for\n",
    "#' \"infomap\" method.\n",
    "#' @param directed Logical constant, whether to calculate directed edge \n",
    "#' betweenness for directed graphs. This argument is settable only for \n",
    "#' \"edgeBetweenness\" method.\n",
    "#' @param resolution only for \"louvain\" and \"leiden\". Optional resolution \n",
    "#' parameter, lower values typically yield fewer, larger clusters (default=1).\n",
    "#' \n",
    "#' @return Returns a numeric vector, one number for each vertex in the graph; \n",
    "#' the membership vector of the community structure.\n",
    "#' @import igraph\n",
    "#' @export\n",
    "#'\n",
    "#' @examples \n",
    "#' my_file <- system.file(\"example/football.gml\", package=\"robin\")\n",
    "#' graph <- prepGraph(file=my_file, file.format=\"gml\")\n",
    "#' membershipCommunities (graph=graph, method=\"louvain\")"
   ]
  },
  {
   "cell_type": "code",
   "execution_count": 30,
   "metadata": {},
   "outputs": [],
   "source": [
    "def membership_communities(graph,\n",
    "                           method=\"louvain\",\n",
    "                           FUN=None,\n",
    "                           directed=False,\n",
    "                           weights=None,\n",
    "                           steps=4,\n",
    "                           spins=25,\n",
    "                           e_weights=None,\n",
    "                           v_weights=None,\n",
    "                           nb_trials=10,\n",
    "                           resolution=1):\n",
    "    method = method.lower()\n",
    "    communities = method_community(graph=graph, method=method,\n",
    "                                   FUN=FUN,\n",
    "                                   directed=directed,\n",
    "                                   weights=weights,\n",
    "                                   steps=steps,\n",
    "                                   spins=spins,\n",
    "                                   e_weights=e_weights,\n",
    "                                   v_weights=v_weights,\n",
    "                                   nb_trials=nb_trials,\n",
    "                                   resolution=resolution)\n",
    "    \n",
    "    return communities.membership"
   ]
  },
  {
   "cell_type": "code",
   "execution_count": 31,
   "metadata": {},
   "outputs": [],
   "source": [
    "membership = membership_communities(graph=graph, method=\"louvain\")"
   ]
  },
  {
   "attachments": {},
   "cell_type": "markdown",
   "metadata": {},
   "source": [
    "################ PLOT GRAPH ###############\n",
    "#' plotGraph\n",
    "#'\n",
    "#' @description Graphical interactive representation of the network.\n",
    "#' @param graph The output of prepGraph.\n",
    "#'\n",
    "#' @return Creates an interactive plot, a D3 JavaScript network graph.\n",
    "#' @import networkD3\n",
    "#' @export\n",
    "#'\n",
    "#' @examples \n",
    "#' my_file <- system.file(\"example/football.gml\", package=\"robin\")\n",
    "#' graph <- prepGraph(file=my_file, file.format=\"gml\")\n",
    "#' plotGraph (graph)"
   ]
  },
  {
   "cell_type": "code",
   "execution_count": 72,
   "metadata": {},
   "outputs": [],
   "source": [
    "from pyvis.network import Network\n",
    "\n",
    "def plot_graph(graph):\n",
    "    network = Network(notebook=True)\n",
    "    network.from_nx(graph.to_networkx())\n",
    "    network.show_buttons(filter_=['physics'])\n",
    "    return display(network.show(\"graph.html\"))"
   ]
  },
  {
   "cell_type": "code",
   "execution_count": 73,
   "metadata": {},
   "outputs": [
    {
     "name": "stdout",
     "output_type": "stream",
     "text": [
      "Warning: When  cdn_resources is 'local' jupyter notebook has issues displaying graphics on chrome/safari. Use cdn_resources='in_line' or cdn_resources='remote' if you have issues viewing graphics in a notebook.\n",
      "graph.html\n"
     ]
    },
    {
     "data": {
      "text/html": [
       "\n",
       "        <iframe\n",
       "            width=\"100%\"\n",
       "            height=\"600px\"\n",
       "            src=\"graph.html\"\n",
       "            frameborder=\"0\"\n",
       "            allowfullscreen\n",
       "            \n",
       "        ></iframe>\n",
       "        "
      ],
      "text/plain": [
       "<IPython.lib.display.IFrame at 0x2639d922d10>"
      ]
     },
     "metadata": {},
     "output_type": "display_data"
    }
   ],
   "source": [
    "plot_graph(graph)"
   ]
  },
  {
   "attachments": {},
   "cell_type": "markdown",
   "metadata": {},
   "source": [
    "######################## PLOT COMMUNITIES ##############\n",
    "#' plotComm\n",
    "#' \n",
    "#' @description Graphical interactive representation of the network and its \n",
    "#' communities.\n",
    "#' \n",
    "#' @param graph The output of prepGraph.\n",
    "#' @param members A membership vector of the community structure, the output of\n",
    "#' membershipCommunities. \n",
    "#'\n",
    "#' @return Creates an interactive plot with colorful communities, a D3 \n",
    "#' JavaScript network graph.\n",
    "#' @import networkD3 \n",
    "#' @importFrom methods is\n",
    "#' @export\n",
    "#'\n",
    "#' @examples\n",
    "#' my_file <- system.file(\"example/football.gml\", package=\"robin\")\n",
    "#' graph <- prepGraph(file=my_file, file.format=\"gml\")\n",
    "#' members <- membershipCommunities (graph=graph, method=\"louvain\")\n",
    "#' plotComm(graph, members)"
   ]
  },
  {
   "cell_type": "code",
   "execution_count": 80,
   "metadata": {},
   "outputs": [],
   "source": [
    "import numpy as np\n",
    "import matplotlib.pyplot as plt\n",
    "import matplotlib.colors as mcolors\n",
    "\n",
    "def plot_communities(graph, members):\n",
    "    network = Network(notebook=True)\n",
    "    network.from_nx(graph.to_networkx())\n",
    "    network.show_buttons(filter_=['physics'])\n",
    "    \n",
    "    # Assign group colors based on community membership\n",
    "    unique_groups = np.unique(members)\n",
    "    colors = plt.cm.rainbow(np.linspace(0, 1, len(unique_groups)))\n",
    "    hex_colors = [mcolors.to_hex(c) for c in colors]\n",
    "    group_colors = {group: hex_colors[i] for i, group in enumerate(unique_groups)}\n",
    "    \n",
    "    # Set node colors according to their communities\n",
    "    for node, group in zip(graph.vs, members):\n",
    "        network.nodes[node.index]['color'] = group_colors[group]\n",
    "    \n",
    "    return display(network.show(\"communities.html\"))"
   ]
  },
  {
   "cell_type": "code",
   "execution_count": 81,
   "metadata": {},
   "outputs": [
    {
     "name": "stdout",
     "output_type": "stream",
     "text": [
      "Warning: When  cdn_resources is 'local' jupyter notebook has issues displaying graphics on chrome/safari. Use cdn_resources='in_line' or cdn_resources='remote' if you have issues viewing graphics in a notebook.\n",
      "communities.html\n"
     ]
    },
    {
     "data": {
      "text/html": [
       "\n",
       "        <iframe\n",
       "            width=\"100%\"\n",
       "            height=\"600px\"\n",
       "            src=\"communities.html\"\n",
       "            frameborder=\"0\"\n",
       "            allowfullscreen\n",
       "            \n",
       "        ></iframe>\n",
       "        "
      ],
      "text/plain": [
       "<IPython.lib.display.IFrame at 0x2639e6f9e40>"
      ]
     },
     "metadata": {},
     "output_type": "display_data"
    }
   ],
   "source": [
    "members = communities.membership\n",
    "plot_communities(graph, members)"
   ]
  },
  {
   "cell_type": "code",
   "execution_count": null,
   "metadata": {},
   "outputs": [],
   "source": []
  }
 ],
 "metadata": {
  "kernelspec": {
   "display_name": "Python 3",
   "language": "python",
   "name": "python3"
  },
  "language_info": {
   "codemirror_mode": {
    "name": "ipython",
    "version": 3
   },
   "file_extension": ".py",
   "mimetype": "text/x-python",
   "name": "python",
   "nbconvert_exporter": "python",
   "pygments_lexer": "ipython3",
   "version": "3.10.0"
  },
  "orig_nbformat": 4
 },
 "nbformat": 4,
 "nbformat_minor": 2
}
